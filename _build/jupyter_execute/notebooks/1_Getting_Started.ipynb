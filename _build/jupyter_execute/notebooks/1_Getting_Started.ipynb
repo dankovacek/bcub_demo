{
 "cells": [
  {
   "attachments": {},
   "cell_type": "markdown",
   "metadata": {},
   "source": [
    "# 1. Getting Started\n",
    "\n",
    "In this notebook, we install Python libraries required for data processing, download a covering set of DEM tiles from the USGS map downloader application (programmatically).  \n",
    "\n",
    "## Dependencies\n",
    "\n",
    "The BCUB database was developed in the Python programming language (version 3.10) and it has a number of depencencies which are listed in [requirements.txt](https://github.com/dankovacek/bcub/blob/main/requirements.txt).  The dataset was developed in Ubuntu Linux, but the process for Windows/Mac is not much different, however you should expect at some point to run into hardware-software disagreement depending upon your combination of OS & hardware.  [YMMV](https://dictionary.cambridge.org/dictionary/english/ymmv) with the information provided herein.\n",
    "\n",
    "Install the required Python packages using `$ pip install requirements.txt`.\n",
    "\n",
    "This dataset pulls together information from a variety of sources and requires significant effort to aquire and process. "
   ]
  },
  {
   "attachments": {},
   "cell_type": "markdown",
   "metadata": {},
   "source": [
    "## Environment\n",
    "\n",
    "It is recommended that you create a new virtual environment to run these files.  It is assumed that the user is familiar with setting up a virtual environment and installing libraries with Conda or Pip.\n",
    "\n",
    "* [virtualenv basics](https://docs.python.org/3/library/venv.html)\n",
    "* [Pip basics](https://pip.pypa.io/en/stable/user_guide/)\n",
    "* [Conda basics](https://gist.github.com/atifraza/b1a92ae7c549dd011590209f188ed2a0)"
   ]
  },
  {
   "attachments": {},
   "cell_type": "markdown",
   "metadata": {},
   "source": [
    "## DEM Acquisition\n",
    "\n",
    "The first step in creating our basin dataset is to create a geometry representing the study area and use it to retrieve a covering set of digital elevation data (DEM).\n",
    "\n",
    "In this section we retrieve DEM from the [USGS 3D Elevation Program](https://www.usgs.gov/3d-elevation-program).  This dataset covers all of North America at roughly 30m resolution.  I've found a polygon describing Vancouver Island, British Columbia, an area of about 32,000 $km^2$.  If you view the polygon in the geographic CRS EPSG 4269 or 4326, it will look a bit skewed (like the image below at left).  If you project it to an equal area projection (BC Albers, EPSG 3005) it will take a more representative spatial form below at right.\n",
    "\n",
    "![Vancouver Island Polygon](img/vi_projected.png)\n",
    "\n"
   ]
  },
  {
   "cell_type": "markdown",
   "metadata": {},
   "source": [
    "Let's try loading and viewing the Vancouver Island Polygon.  The file is saved in the `.geojson` format under `data/region_polygons/Vancouver_Island.geojson`"
   ]
  },
  {
   "cell_type": "code",
   "execution_count": null,
   "metadata": {},
   "outputs": [],
   "source": [
    "import os\n",
    "import geopandas as gpd\n",
    "\n",
    "base_dir = os.getcwd()\n",
    "polygon_path = os.path.join(base_dir, 'data/region_polygons/Vancouver_Island.geojson')\n",
    "df = gpd.read_file(polygon_path)"
   ]
  },
  {
   "cell_type": "code",
   "execution_count": null,
   "metadata": {},
   "outputs": [],
   "source": [
    "df.crs"
   ]
  },
  {
   "cell_type": "markdown",
   "metadata": {},
   "source": [
    "Did you get this `ModuleNotFound` error?\n",
    "\n",
    "![Module Not Found Error](img/module_not_found.png)\n",
    "\n",
    "If so, it means you need to install the `geopandas` library.  \n",
    "\n",
    "This can be done one by one as you encounter packages, i.e.:\n",
    "`>pip install geopandas`\n",
    "\n",
    "Or all at once by running the command:\n",
    "\n",
    "`>pip install -r requirements.txt`\n",
    "\n",
    "Or with Conda:\n",
    "\n",
    "`>conda install --file requirements.txt`"
   ]
  },
  {
   "cell_type": "markdown",
   "metadata": {},
   "source": [
    "### DEM URL List\n",
    "\n",
    "If you visit the [USGS TNM Download application](https://apps.nationalmap.gov/downloader/) you should see 'Elevation Products (3DEP)' under **Data** in the Datasets tab on the left hand side:\n",
    "\n",
    "![1 Arcsecond DEM Download Tool](img/tnm_downloader.png)\n",
    "\n"
   ]
  },
  {
   "cell_type": "markdown",
   "metadata": {},
   "source": [
    "You can draw a polygon on the map and click \"Search Products\", and this will yield a list of about 16 files corresponding to the DEM tiles that intersect your polygon. \n",
    "\n",
    "![USGS 3DEP 1 arcsecond DEM files are saved in 1 degree by 1 degree tiles.](img/tnm_results.png)"
   ]
  },
  {
   "cell_type": "markdown",
   "metadata": {},
   "source": [
    "In the box next to 'collapse view' there is an option to save a `.txt` or `.csv` file.  This list of links has already been saved to the `content/data/` folder.  Let's load it now using the Pandas library:"
   ]
  },
  {
   "cell_type": "code",
   "execution_count": null,
   "metadata": {},
   "outputs": [],
   "source": [
    "import os\n",
    "import pandas as pd\n",
    "\n",
    "# base_dir = os.path.dirname(os.getcwd())\n",
    "# I've gone ahead and previewed the table to see the 14th column index \n",
    "# contains the download links corresponding to the .tif DEM file\n",
    "links_path = os.path.join(base_dir, 'data/download_links.csv')\n",
    "links = pd.read_csv(links_path, header=None, usecols=[14])"
   ]
  },
  {
   "cell_type": "markdown",
   "metadata": {},
   "source": [
    "### Download the covering DEM tile set"
   ]
  },
  {
   "cell_type": "code",
   "execution_count": null,
   "metadata": {},
   "outputs": [],
   "source": [
    "import os\n",
    "\n",
    "# set the path where the DEM files should be saved locally\n",
    "# save_path = os.path.join(base_dir, 'data/DEM/')\n",
    "dem_path = os.path.join(base_dir, 'data/DEM')\n",
    "if not os.path.exists(dem_path):\n",
    "        os.mkdir(dem_path)\n",
    "\n",
    "def download_file(url):\n",
    "    # download a file from a url and save it to a specified directory\n",
    "    filename = url.split('/')[-1]\n",
    "    command = f'wget {url} -P {dem_path}'\n",
    "    out_path = os.path.join(dem_path, filename)\n",
    "    if not os.path.exists(out_path):\n",
    "        print(command)\n",
    "        os.system(command)"
   ]
  },
  {
   "cell_type": "code",
   "execution_count": null,
   "metadata": {},
   "outputs": [],
   "source": [
    "for _, row in links.iterrows():\n",
    "    url = row.values[0]\n",
    "    download_file(url)"
   ]
  },
  {
   "cell_type": "markdown",
   "metadata": {},
   "source": [
    "### View a DEM file\n",
    "\n",
    "Using the `rioxarray` library, let's load a tile and look at its properties, namely the CRS.\n",
    "\n"
   ]
  },
  {
   "cell_type": "code",
   "execution_count": null,
   "metadata": {
    "scrolled": true
   },
   "outputs": [],
   "source": [
    "import rioxarray as rxr\n",
    "\n",
    "dem_files = os.listdir(dem_path)\n",
    "test_file = dem_files[0]\n",
    "\n",
    "dem = rxr.open_rasterio(os.path.join(dem_path, test_file))\n",
    "dem"
   ]
  },
  {
   "cell_type": "markdown",
   "metadata": {},
   "source": [
    "Above we can see the properties of the DEM tile.  Namely, the x and y coordinates are decimal degrees.  We can get the CRS ([EPSG 4269](https://epsg.io/4269)) and the DEM resolution (in degrees) by the following:"
   ]
  },
  {
   "cell_type": "code",
   "execution_count": null,
   "metadata": {},
   "outputs": [],
   "source": [
    "crs = dem.rio.crs.to_epsg()\n",
    "crs"
   ]
  },
  {
   "cell_type": "code",
   "execution_count": null,
   "metadata": {},
   "outputs": [],
   "source": [
    "dem.rio.resolution()"
   ]
  },
  {
   "cell_type": "markdown",
   "metadata": {},
   "source": [
    "Build a virtual raster file (VRT) to enable spatial operations on the set of DEM tiles as a mosaic."
   ]
  },
  {
   "cell_type": "code",
   "execution_count": null,
   "metadata": {},
   "outputs": [],
   "source": [
    "# this command builds the dem mosaic \"virtual raster\"\n",
    "processed_dem_dir = os.path.join(base_dir, 'data/processed_dem')\n",
    "if not os.path.exists(processed_dem_dir):\n",
    "    os.mkdir(processed_dem_dir)\n",
    "vrt_path = os.path.join(processed_dem_dir, f'USGS_3DEP_mosaic_4269.vrt')\n",
    "print(f'{dem_path}/*.tif\"')\n",
    "vrt_command = f\"gdalbuildvrt -resolution highest -a_srs epsg:4269 {vrt_path} {dem_path}/*.tif\"\n",
    "if not os.path.exists(vrt_path):\n",
    "    os.system(vrt_command)"
   ]
  },
  {
   "cell_type": "markdown",
   "metadata": {},
   "source": [
    "## GDAL\n",
    "\n",
    "If the above command failed, check to ensure you have [GDAL installed](https://gdal.org/download.html).  See [this discussion](https://gis.stackexchange.com/questions/28966/python-gdal-package-missing-header-file-when-installing-via-pip).  For Windows and MacOS, see [this tutorial](https://towardsdatascience.com/spatial-data-science-installing-gdal-on-windows-and-macos-6fb5c958dc26).  You may need to install system-level packages, i.e. on Ubuntu Linux:\n",
    "\n",
    "`>sudo apt-get install libgdal-dev`\n"
   ]
  }
 ],
 "metadata": {
  "kernelspec": {
   "display_name": "Python 3 (ipykernel)",
   "language": "python",
   "name": "python3"
  },
  "language_info": {
   "codemirror_mode": {
    "name": "ipython",
    "version": 3
   },
   "file_extension": ".py",
   "mimetype": "text/x-python",
   "name": "python",
   "nbconvert_exporter": "python",
   "pygments_lexer": "ipython3",
   "version": "3.10.12"
  },
  "widgets": {
   "application/vnd.jupyter.widget-state+json": {
    "state": {},
    "version_major": 2,
    "version_minor": 0
   }
  }
 },
 "nbformat": 4,
 "nbformat_minor": 4
}