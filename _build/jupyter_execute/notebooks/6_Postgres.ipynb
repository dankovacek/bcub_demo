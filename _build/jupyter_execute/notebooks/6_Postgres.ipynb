{
 "cells": [
  {
   "cell_type": "markdown",
   "id": "b4abe2d8-1b65-4f6c-95e7-86b0aac222d6",
   "metadata": {},
   "source": [
    "# 6. Basin Attribute Extraction - Postgres + PostGIS Method\n",
    "\n",
    "```{figure} img/basin_batch.png\n",
    "---\n",
    "width: 600px\n",
    "---\n",
    "North American Land Change Monitoring System rasters are availabel for 2010, 2015, and 2020.\n",
    "```\n",
    "\n",
    "Depending upon the end-use, the batch files generated in the previous notebook may be enough, and at this point they contain all the attributes found in the BCUB dataset, of which Vancouver Island is a subset.  \n",
    "\n",
    "Postgres + PostGIS format may perform better if other geospatial operations are to be carried out on the data in high volume or over larger regions.  Below are some resources for setting up Postgres + PostGIS, creating tables, and populating the database."
   ]
  },
  {
   "cell_type": "markdown",
   "id": "329339e7-bf69-4e4e-9f38-2d65ce55c8b1",
   "metadata": {},
   "source": [
    "## Install Postgres\n",
    "\n"
   ]
  },
  {
   "cell_type": "markdown",
   "id": "de963620-154b-481c-8873-3e2c3f140fa0",
   "metadata": {},
   "source": [
    "## Postgres\n",
    "\n",
    "Once the DEM is processed, pour points are generated, and basin delineation is completed, we can work directly with the polygons in geopackage or geojson format, or we can use a spatial database.  I found Postgres to provide performant operations for extracting basin attributes from geospatial layers.  When processing large basins, memory (RAM) is a major limitation, and Postgres combined with PostGIS seems to manages resources well.\n",
    "\n",
    "Information on setting up Postgres on your local environment is provided in [Notebook 6](6_Postgres.ipynb)."
   ]
  },
  {
   "cell_type": "code",
   "execution_count": null,
   "id": "788e8592-1077-43a9-a2cf-0facd7a45689",
   "metadata": {},
   "outputs": [],
   "source": []
  }
 ],
 "metadata": {
  "kernelspec": {
   "display_name": "Python 3 (ipykernel)",
   "language": "python",
   "name": "python3"
  },
  "language_info": {
   "codemirror_mode": {
    "name": "ipython",
    "version": 3
   },
   "file_extension": ".py",
   "mimetype": "text/x-python",
   "name": "python",
   "nbconvert_exporter": "python",
   "pygments_lexer": "ipython3",
   "version": "3.10.12"
  }
 },
 "nbformat": 4,
 "nbformat_minor": 5
}