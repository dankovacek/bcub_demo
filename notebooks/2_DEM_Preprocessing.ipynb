{
 "cells": [
  {
   "attachments": {},
   "cell_type": "markdown",
   "metadata": {},
   "source": [
    "# 2. Digital Elevation Preprocessing\n",
    "\n",
    "In this notebook, we'll merge the raster tiles and clip them to the Vancouver Island polygon.  We'll then process the DEM using Whitebox library to generate a stream network.  We need the stream network to generate pour points which are ultimately used for basin delineation.  If you are familiar with ArcGIS or QGIS, you can do the DEM processing using those tools if you prefer.  Ultimately we need a flow direction (d8) raster and a stream network raster for the next steps.  "
   ]
  },
  {
   "cell_type": "code",
   "execution_count": null,
   "metadata": {},
   "outputs": [],
   "source": [
    "import os\n",
    "import rioxarray as rxr\n",
    "from utilities import *"
   ]
  },
  {
   "cell_type": "code",
   "execution_count": null,
   "metadata": {},
   "outputs": [],
   "source": [
    "base_dir = os.path.dirname(os.getcwd())\n",
    "dem_dir = os.path.join(base_dir, 'notebooks/data/DEM/')\n",
    "processed_dem_folder = os.path.join(base_dir, 'notebooks/data/processed_dem')\n",
    "dem_files = [e for e in os.listdir(dem_dir) if e.endswith('.tif')]\n",
    "\n",
    "# open a sample dem file and get the resolution and CRS\n",
    "input_dem, input_crs, input_affine = retrieve_raster(os.path.join(dem_dir, dem_files[0]))"
   ]
  },
  {
   "attachments": {},
   "cell_type": "markdown",
   "metadata": {},
   "source": [
    "## Clip the DEM\n",
    "\n",
    "Let's take the polygon describing Vancouver Island and use it to clip the DEM. We do this so we don't end up computing the stream network on the ocean surrounding the island, and so that we can identify where rivers drain into the ocean.\n",
    "\n",
    "```{figure} img/VI_trimmed.png\n",
    "---\n",
    "width: 600px\n",
    "---\n",
    "The raster is clipped to the Vancouver Island polygon.\n",
    "```"
   ]
  },
  {
   "cell_type": "code",
   "execution_count": null,
   "metadata": {},
   "outputs": [],
   "source": [
    "import geopandas as gpd\n",
    "\n",
    "mask_path = os.path.join(base_dir, 'notebooks/data/region_polygons/Vancouver_Island.geojson')\n",
    "output_dem_path = os.path.join(processed_dem_folder, f'Vancouver_Island_{crs}.tif')\n",
    "vrt_path = os.path.join(base_dir, 'notebooks/data/processed_dem/USGS_3DEP_mosaic_4269.vrt')\n",
    "\n",
    "mask = gpd.read_file(mask_path)\n",
    "# ensure the mask and raster have the same projection\n",
    "if mask.crs != input_crs:\n",
    "    mask = mask.to_crs(input_crs)\n",
    "    mask_path = mask_path.replace('.geojson', f'_{input_crs}.geojson')\n",
    "    mask.to_file(mask_path)\n",
    "gtype = mask.geometry.values[0].geom_type\n",
    "if mask.geometry.is_valid.values[0]:\n",
    "    print(f'   ...mask is valid.')"
   ]
  },
  {
   "cell_type": "markdown",
   "metadata": {},
   "source": [
    "The command below takes the Vancouver Island shoreline polygon and uses it to clip the virtual raster.  The function should take about a minute or so depending upon your system hardware.  Note the resulting file is roughly 1GB, and for the various DEM processing steps you may need up to 1X that in RAM."
   ]
  },
  {
   "cell_type": "code",
   "execution_count": null,
   "metadata": {},
   "outputs": [],
   "source": [
    "command = f'gdalwarp -s_srs epsg:{input_crs} -cutline {mask_path} -crop_to_cutline -multi -of gtiff {vrt_path} {output_dem_path} -wo NUM_THREADS=ALL_CPUS'\n",
    "if not os.path.exists(output_dem_path):\n",
    "    os.system(command)"
   ]
  },
  {
   "cell_type": "markdown",
   "metadata": {},
   "source": [
    "Since we will be working with areas and distances, we want the dem in a projected CRS that is representative of the specific location.  Here we use BC Albers (EPSG 3005).  Let's reproject the DEM."
   ]
  },
  {
   "cell_type": "code",
   "execution_count": null,
   "metadata": {},
   "outputs": [],
   "source": [
    "# check # pixels low res\n",
    "new_crs = 3005\n",
    "dem_path_reprojected = output_dem_path.replace(f'_{input_crs}.tif', f'_{new_crs}.tif')\n",
    "if not os.path.exists(dem_path_reprojected):\n",
    "    # reproject to epsg 3005\n",
    "    lr = rxr.open_rasterio(output_dem_path, masked=True, default='dem')\n",
    "    lr = lr.rio.reproject(new_crs)\n",
    "    lr.rio.to_raster(dem_path_reprojected)\n",
    "    lr_shape = lr.rio.shape\n",
    "    dem_resolution = lr.rio.resolution()\n",
    "    dx, dy = abs(dem_resolution[0]), abs(dem_resolution[1])\n",
    "    print(dx, dy)\n",
    "    n_pix = lr_shape[0] * lr_shape[0]\n",
    "    print(f'   ...img has {n_pix:.2e} pixels at {dx}x{dy}m resolution')\n",
    "    \n",
    "else:\n",
    "    fname = dem_path_reprojected.split('/')[-1]\n",
    "    print(f'   ...{fname} exists, skipping dem reprojection..')"
   ]
  },
  {
   "cell_type": "markdown",
   "metadata": {},
   "source": [
    "The command below will try to plot the raster, it should look like the image below.  \n",
    "\n",
    "```{figure} img/vi_dem.png\n",
    "---\n",
    "width: 600px\n",
    "---\n",
    "The elevation of Vancouver Island represented in colour.\n",
    "```\n",
    "\n",
    "```{note}\n",
    "**It may take some time to load** as the raster is about **200 million pixels**.\n",
    "```\n",
    "\n",
    "Feel free to skip past the next cell and go to the Whitebox import."
   ]
  },
  {
   "cell_type": "code",
   "execution_count": null,
   "metadata": {},
   "outputs": [],
   "source": [
    "import rasterio\n",
    "from rasterio.plot import show\n",
    "show(rasterio.open(output_dem_path))"
   ]
  },
  {
   "cell_type": "markdown",
   "metadata": {},
   "source": [
    "## Hydraulic Conditioning\n",
    "\n",
    "The DEM in its unprocessed form will have \"pits\" or local depressions that will prevent the stream networks from resolving.  \n",
    "\n",
    "We need to run several steps using the Whitebox library:\n",
    "\n",
    "* **fill depressions**: creates a new DEM raster where pits are filled ([Whitebox fill depressions](https://www.whiteboxgeo.com/manual/wbt_book/available_tools/hydrological_analysis.html#FillDepressions))\n",
    "* **d8 flow direction**: creates a new raster where the values represent the direction of surface flow based on each pixel's lowest neighbour.([Whitebox d8 pointer](https://www.whiteboxgeo.com/manual/wbt_book/available_tools/hydrological_analysis.html#D8Pointer))\n",
    "* **flow accumulation**: creates a new raster representing the number of cells upstream of each pixel. ([Whitebox d8 flow accumulation](https://www.whiteboxgeo.com/manual/wbt_book/available_tools/hydrological_analysis.html#D8FlowAccumulation))\n",
    "* **stream network**: creates a new raster where the streams are represented by 1 and hillslopes are represented by 0.  Here we need to set a threshold for the accumulation that yields a stream.  We use a threshold of 1 $km^2$ but in reality this depends upon several factors and varies in time and space. ([Whitebox extract streams](https://www.whiteboxgeo.com/manual/wbt_book/available_tools/stream_network_analysis.html#ExtractStreams))\n",
    "\n",
    "If you have issues, check out the [tutorial from Google Colab on whitebox](https://colab.research.google.com/github/giswqs/whitebox-python/blob/master/examples/whitebox.ipynb#scrollTo=d0IJ-5j1NnbK)."
   ]
  },
  {
   "cell_type": "code",
   "execution_count": null,
   "metadata": {},
   "outputs": [],
   "source": [
    "import whitebox\n",
    "\n",
    "wbt = whitebox.WhiteboxTools()\n",
    "\n",
    "# change to True to see more detailed logs\n",
    "wbt.verbose = False"
   ]
  },
  {
   "cell_type": "markdown",
   "metadata": {},
   "source": [
    "Note that to run functions using the whitebox library, we need to provide **absolute urls**, i.e. the full file path (`/home/danbot/Documents/code/23/bcub/content/data/DEM/...`) as opposed to the relative filepath (`data/DEM/...`)."
   ]
  },
  {
   "cell_type": "code",
   "execution_count": null,
   "metadata": {},
   "outputs": [],
   "source": [
    "dem_path_reprojected"
   ]
  },
  {
   "cell_type": "code",
   "execution_count": null,
   "metadata": {},
   "outputs": [],
   "source": [
    "new_dem = rxr.open_rasterio(dem_path_reprojected, mask=True, default='dem')\n",
    "resolution = new_dem.rio.resolution()\n",
    "dx, dy = abs(resolution[0]), abs(resolution[1])\n",
    "n_pix = lr_shape[0] * lr_shape[0]\n",
    "print(f'   ...raster in {new_crs} CRS has {n_pix:.2e} pixels at {dx:.0f}x{dy:.0f}m resolution')"
   ]
  },
  {
   "cell_type": "code",
   "execution_count": null,
   "metadata": {
    "scrolled": true
   },
   "outputs": [],
   "source": [
    "filled_dem_path = dem_path_reprojected.replace('.tif', '_filled.tif')\n",
    "\n",
    "if not os.path.exists(filled_dem_path):\n",
    "    wbt.fill_depressions(\n",
    "        dem_path_reprojected,\n",
    "        filled_dem_path, \n",
    "        fix_flats=True, \n",
    "        flat_increment=None, \n",
    "        max_depth=None, \n",
    "        callback=None,\n",
    "    )"
   ]
  },
  {
   "cell_type": "markdown",
   "metadata": {},
   "source": [
    "## Flow Direction, Accumulation, and Stream Network"
   ]
  },
  {
   "cell_type": "code",
   "execution_count": null,
   "metadata": {},
   "outputs": [],
   "source": [
    "d8_pointer_path = os.path.join(processed_dem_folder, 'Vancouver_Island_d8_pointer.tif')\n",
    "if not os.path.exists(d8_pointer_path):\n",
    "    wbt.d8_pointer(\n",
    "        filled_dem_path, \n",
    "        d8_pointer_path, \n",
    "        esri_pntr=False, \n",
    "        callback=None\n",
    "    )"
   ]
  },
  {
   "cell_type": "code",
   "execution_count": null,
   "metadata": {
    "scrolled": true
   },
   "outputs": [],
   "source": [
    "# flow accumulation\n",
    "acc_path = os.path.join(processed_dem_folder, 'Vancouver_Island_acc.tif')\n",
    "wbt.d8_flow_accumulation(\n",
    "    filled_dem_path, \n",
    "    acc_path, \n",
    "    out_type=\"cells\", \n",
    "    log=False, \n",
    "    clip=False, \n",
    "    pntr=False, \n",
    "    esri_pntr=False, \n",
    "    callback=None\n",
    ")"
   ]
  },
  {
   "cell_type": "markdown",
   "metadata": {},
   "source": [
    "Before extracting streams, lets calculate the number of pixels representing 1 $km^2$ at the resolution of the DEM.\n",
    "\n",
    "Make sure you are looking at the projected dem, otherwise you will be measuring resolution in decimal degrees.  We want the threshold expressed as number of cells/pixels, It should be just over 2000."
   ]
  },
  {
   "cell_type": "code",
   "execution_count": null,
   "metadata": {},
   "outputs": [],
   "source": [
    "# extract streams\n",
    "streams_path = os.path.join(processed_dem_folder, 'Vancouver_Island_streams.tif')\n",
    "wbt.extract_streams(\n",
    "    acc_path, \n",
    "    streams_path, \n",
    "    threshold, \n",
    "    zero_background=False, \n",
    "    callback=None\n",
    ")"
   ]
  },
  {
   "cell_type": "markdown",
   "metadata": {},
   "source": [
    "Additionally create a stream link raster (gives each network segment a unique ID)"
   ]
  },
  {
   "cell_type": "code",
   "execution_count": null,
   "metadata": {},
   "outputs": [],
   "source": [
    "stream_link_path = os.path.join(processed_dem_folder, 'Vancouver_Island_stream_links.tif')\n",
    "wbt.stream_link_identifier(\n",
    "    d8_pointer_path, \n",
    "    streams_path, \n",
    "    stream_link_path, \n",
    "    esri_pntr=False, \n",
    "    zero_background=False, \n",
    ")"
   ]
  },
  {
   "cell_type": "markdown",
   "metadata": {},
   "source": [
    "The final product should now have resolved stream networks, see the example detail below.  Generally if streams do not resolve, there is an issue with the flow direction raster, i.e. check that the flow direction was created from a filled DEM.\n",
    "\n",
    "![Resulting streams from the processed DEM](img/streams_result.png)"
   ]
  },
  {
   "cell_type": "markdown",
   "metadata": {},
   "source": [
    "```{warning}\n",
    "River networks derived from digital elevation data are mostly representative, but they are far from perfect.  The figure below is one example of where the stream network as derived from the USGS 3DEP DEM diverges from the watercourse polygon defined in the National Hydrographic Network.  We'll use the NHN data to filter pour points in the next notebook.\n",
    "```\n",
    "\n",
    "```{figure} img/reality_of_stream_network_from_dem.png\n",
    "---\n",
    "width: 600px\n",
    "---\n",
    "The black squares represent the stream network that will be derived in the next chapter, while the light blue polygon represents a watercourse layer polygon from the National Hydrographic Network dataset.  \n",
    "```"
   ]
  }
 ],
 "metadata": {
  "kernelspec": {
   "display_name": "Python 3 (ipykernel)",
   "language": "python",
   "name": "python3"
  },
  "language_info": {
   "codemirror_mode": {
    "name": "ipython",
    "version": 3
   },
   "file_extension": ".py",
   "mimetype": "text/x-python",
   "name": "python",
   "nbconvert_exporter": "python",
   "pygments_lexer": "ipython3",
   "version": "3.10.12"
  },
  "widgets": {
   "application/vnd.jupyter.widget-state+json": {
    "state": {},
    "version_major": 2,
    "version_minor": 0
   }
  }
 },
 "nbformat": 4,
 "nbformat_minor": 4
}
